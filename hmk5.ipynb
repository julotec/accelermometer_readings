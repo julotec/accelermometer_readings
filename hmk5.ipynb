{
  "metadata": {
    "kernelspec": {
      "name": "python",
      "display_name": "Python (Pyodide)",
      "language": "python"
    },
    "language_info": {
      "codemirror_mode": {
        "name": "python",
        "version": 3
      },
      "file_extension": ".py",
      "mimetype": "text/x-python",
      "name": "python",
      "nbconvert_exporter": "python",
      "pygments_lexer": "ipython3",
      "version": "3.8"
    }
  },
  "nbformat_minor": 4,
  "nbformat": 4,
  "cells": [
    {
      "cell_type": "code",
      "source": "import os\nimport pandas as pd\nimport numpy as np\nfrom sklearn.model_selection import train_test_split\nfrom sklearn.preprocessing import StandardScaler\nfrom sklearn.svm import SVC\nfrom sklearn.ensemble import RandomForestClassifier\nfrom sklearn.metrics import classification_report\n\n# Funkcja do obliczania cech domeny czasowej\ndef calculate_time_domain_features(data):\n    features = []\n    features.append(np.mean(data))\n    features.append(np.std(data))\n    features.append(np.min(data))\n    features.append(np.max(data))\n    features.append(np.median(data))\n    features.append(pd.Series(data).skew())\n    features.append(pd.Series(data).kurtosis())\n    return features\n\n# Ścieżki do folderów z danymi\nfolders = ['running', 'idle', 'walking', 'stairs']\n\n# Wczytaj dane i oblicz cechy domeny czasowej dla każdej aktywności\nactivity_data = {}\nfor folder in folders:\n    folder_path = f'/drive/notebooks/hmk5/{folder}'  # dostosuj ścieżkę do foldera\n    activity_files = []  # lista danych dla danej aktywności\n    for file_name in os.listdir(folder_path):\n        if file_name.endswith('.csv'):\n            file_path = os.path.join(folder_path, file_name)\n            df = pd.read_csv(file_path)\n            accelerometer_data = df[['accelerometer_X', 'accelerometer_Y', 'accelerometer_Z']]\n            time_domain_features = accelerometer_data.apply(calculate_time_domain_features)\n            features = np.concatenate(time_domain_features.values, axis=0)\n            activity_files.append(features)\n    activity_data[folder] = np.array(activity_files)\n\n# Przygotuj dane do klasyfikacji\nX = np.concatenate([activity_data[folder] for folder in folders], axis=0)\ny = np.concatenate([np.full(len(activity_data[folder]), folder) for folder in folders], axis=0)\n\n# Podziel dane na zbiór treningowy i testowy\nX_train, X_test, y_train, y_test = train_test_split(X, y, test_size=0.2, random_state=42)\n\n# Normalizacja cech\nscaler = StandardScaler()\nX_train_scaled = scaler.fit_transform(X_train)\nX_test_scaled = scaler.transform(X_test)\n\n# Utwórz modele\nsvm_classifier = SVC(kernel='linear')\nrf_classifier = RandomForestClassifier(n_estimators=100)\n\n# Dostosuj modele do danych treningowych\nsvm_classifier.fit(X_train_scaled, y_train)\nrf_classifier.fit(X_train_scaled, y_train)\n\n# Przetestuj modele na danych testowych\nsvm_pred = svm_classifier.predict(X_test_scaled)\nrf_pred = rf_classifier.predict(X_test_scaled)\n\n# Ocena wydajności\nprint(\"SVM Classification Report:\")\nprint(classification_report(y_test, svm_pred))\n\nprint(\"Random Forest Classification Report:\")\nprint(classification_report(y_test, rf_pred))",
      "metadata": {
        "trusted": true,
        "scrolled": true
      },
      "outputs": [
        {
          "name": "stdout",
          "text": "SVM Classification Report:\n              precision    recall  f1-score   support\n\n        idle       1.00      1.00      1.00       190\n     running       1.00      1.00      1.00       693\n      stairs       0.87      0.79      0.83        33\n     walking       0.98      0.99      0.99       377\n\n    accuracy                           0.99      1293\n   macro avg       0.96      0.94      0.95      1293\nweighted avg       0.99      0.99      0.99      1293\n\nRandom Forest Classification Report:\n              precision    recall  f1-score   support\n\n        idle       1.00      1.00      1.00       190\n     running       1.00      1.00      1.00       693\n      stairs       1.00      0.97      0.98        33\n     walking       1.00      1.00      1.00       377\n\n    accuracy                           1.00      1293\n   macro avg       1.00      0.99      1.00      1293\nweighted avg       1.00      1.00      1.00      1293\n\n",
          "output_type": "stream"
        }
      ],
      "execution_count": 22
    },
    {
      "cell_type": "code",
      "source": "print(\"Rozmiar X_test:\", X_test.shape)\nprint(\"Rozmiar y_test:\", y_test.shape)\n",
      "metadata": {
        "trusted": true
      },
      "outputs": [
        {
          "name": "stdout",
          "text": "Rozmiar X_test: (1293, 21)\nRozmiar y_test: (1293,)\n",
          "output_type": "stream"
        }
      ],
      "execution_count": 23
    },
    {
      "cell_type": "code",
      "source": "",
      "metadata": {
        "trusted": true
      },
      "outputs": [],
      "execution_count": null
    }
  ]
}